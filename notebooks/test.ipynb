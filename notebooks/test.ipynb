{
 "cells": [
  {
   "cell_type": "code",
   "execution_count": 4,
   "metadata": {},
   "outputs": [
    {
     "name": "stdout",
     "output_type": "stream",
     "text": [
      "torch verison: 2.5.1\n",
      "numpy version: 2.2.3\n",
      "MPS backend: True\n",
      "Using device: mps\n",
      "Matrix multiplication took 0.0005 seconds\n"
     ]
    }
   ],
   "source": [
    "import torch\n",
    "print(f'torch verison: {torch.__version__}')\n",
    "import numpy\n",
    "print(f'numpy version: {numpy.__version__}')\n",
    "print(f'MPS backend: {torch.backends.mps.is_available()}')\n",
    "\n",
    "import time\n",
    "\n",
    "# Check device\n",
    "device = torch.device(\"mps\" if torch.backends.mps.is_available() else \"cpu\")\n",
    "print(f\"Using device: {device}\")\n",
    "\n",
    "# Simple matrix multiplication test\n",
    "x = torch.rand(1000, 1000).to(device)\n",
    "y = torch.rand(1000, 1000).to(device)\n",
    "\n",
    "start = time.time()\n",
    "z = torch.matmul(x, y)\n",
    "print(f\"Matrix multiplication took {time.time() - start:.4f} seconds\")"
   ]
  },
  {
   "cell_type": "code",
   "execution_count": null,
   "metadata": {},
   "outputs": [],
   "source": []
  }
 ],
 "metadata": {
  "kernelspec": {
   "display_name": "Python 3",
   "language": "python",
   "name": "python3"
  },
  "language_info": {
   "codemirror_mode": {
    "name": "ipython",
    "version": 3
   },
   "file_extension": ".py",
   "mimetype": "text/x-python",
   "name": "python",
   "nbconvert_exporter": "python",
   "pygments_lexer": "ipython3",
   "version": "3.11.11"
  }
 },
 "nbformat": 4,
 "nbformat_minor": 2
}
